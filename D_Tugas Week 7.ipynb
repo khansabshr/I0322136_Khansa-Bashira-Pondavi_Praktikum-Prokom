{
 "cells": [
  {
   "cell_type": "code",
   "execution_count": 2,
   "metadata": {},
   "outputs": [
    {
     "name": "stdout",
     "output_type": "stream",
     "text": [
      "[[4, 2, 4], [5, 7, 8]]\n"
     ]
    }
   ],
   "source": [
    "#Buatlah sebuah fungsi untuk membuat matrix berdasarkan input dari user\n",
    "\n",
    "def create_matrix(baris,kolom):\n",
    "    matrix = []\n",
    "    for i in range(baris):\n",
    "        row = []\n",
    "        for j in range(kolom):\n",
    "            element = int(input(f\"Masukkan elemen matriks pada baris {i+1} kolom {j+1}: \"))\n",
    "            row.append(element)\n",
    "        matrix.append(row)\n",
    "\n",
    "    return matrix\n",
    "\n",
    "baris = int(input('Masukkan Jumlah Baris:\\t'))\n",
    "kolom = int(input('Masukkan Jumlah Kolom:\\t'))\n",
    "\n",
    "matriks = create_matrix(baris,kolom)\n",
    "print(matriks) "
   ]
  },
  {
   "cell_type": "code",
   "execution_count": 25,
   "metadata": {},
   "outputs": [
    {
     "name": "stdout",
     "output_type": "stream",
     "text": [
      "Invers matriks:\n",
      "[[ 0.66666667 -0.33333333]\n",
      " [-0.55555556  0.44444444]]\n"
     ]
    }
   ],
   "source": [
    "#Buatlah sebuah fungsi untuk mencari invers matrix berdasarkan input matrix dari user\n",
    "\n",
    "import numpy as np\n",
    "\n",
    "def inverse_matrix():\n",
    "    n = int(input(\"Masukkan ukuran matriks nxn: \"))\n",
    "\n",
    "    matrix = []\n",
    "    for i in range(n):\n",
    "        row = []\n",
    "        for j in range(n):\n",
    "            element = float(input(\"Masukkan elemen matriks pada baris {} kolom {}: \".format(i+1, j+1)))\n",
    "            row.append(element)\n",
    "        matrix.append(row)\n",
    "\n",
    "    # Mengubah list menjadi numpy array\n",
    "    matrix = np.array(matrix)\n",
    "\n",
    "    # Mencari invers matriks\n",
    "    try:\n",
    "        inverse = np.linalg.inv(matrix)\n",
    "        print(\"Invers matriks:\")\n",
    "        print(inverse)\n",
    "    except np.linalg.LinAlgError:\n",
    "        print(\"Matriks tidak memiliki invers.\")\n",
    "\n",
    "inverse_matrix()\n"
   ]
  },
  {
   "cell_type": "code",
   "execution_count": 28,
   "metadata": {},
   "outputs": [
    {
     "name": "stdout",
     "output_type": "stream",
     "text": [
      "Hasil pembagian matriks dengan skalar:\n",
      "[2.0, 0.5, 1.5, 0.75, 1.5, 2.0]\n",
      "[0.5, 1.0, 2.0, 0.5, 1.0, 1.5]\n",
      "[2.0, 0.75, 2.25, 1.0, 1.25, 1.5]\n"
     ]
    }
   ],
   "source": [
    "#Buatlah Fungsi untuk melakukan pembagian matrix antar matrix berdasarkan input user menggunakan nested loop\n",
    "\n",
    "def pembagian_matriks_dengan_skalar():\n",
    "    baris = int(input(\"Masukkan jumlah baris matriks: \"))\n",
    "    kolom = int(input(\"Masukkan jumlah kolom matriks: \"))\n",
    "    skalar = float(input(\"Masukkan skalar: \"))\n",
    "\n",
    "    matrix = []\n",
    "    for i in range(baris):\n",
    "        row = []\n",
    "        for j in range(kolom):\n",
    "            element = float(input(\"Masukkan elemen matriks pada baris {} kolom {}: \".format(i+1, j+1)))\n",
    "            row.append(element)\n",
    "        matrix.append(row)\n",
    "\n",
    "    # Melakukan pembagian matriks dengan skalar\n",
    "    result = []\n",
    "    for i in range(baris):\n",
    "        row = []\n",
    "        for j in range(kolom):\n",
    "            element = matrix[i][j] / skalar\n",
    "            row.append(element)\n",
    "        result.append(row)\n",
    "\n",
    "    print(\"Hasil pembagian matriks dengan skalar:\")\n",
    "    for row in result:\n",
    "        print(row)\n",
    "\n",
    "pembagian_matriks_dengan_skalar()\n"
   ]
  }
 ],
 "metadata": {
  "kernelspec": {
   "display_name": "Python 3",
   "language": "python",
   "name": "python3"
  },
  "language_info": {
   "codemirror_mode": {
    "name": "ipython",
    "version": 3
   },
   "file_extension": ".py",
   "mimetype": "text/x-python",
   "name": "python",
   "nbconvert_exporter": "python",
   "pygments_lexer": "ipython3",
   "version": "3.11.3"
  },
  "orig_nbformat": 4
 },
 "nbformat": 4,
 "nbformat_minor": 2
}
