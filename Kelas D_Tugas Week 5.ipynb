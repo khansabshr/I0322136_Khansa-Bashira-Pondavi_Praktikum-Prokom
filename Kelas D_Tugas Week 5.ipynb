{
 "cells": [
  {
   "attachments": {},
   "cell_type": "markdown",
   "metadata": {},
   "source": [
    "1. Buatlah program pemanggilan angka secara descending menggunakan pengulangan dari angka 50 hingga 0!"
   ]
  },
  {
   "cell_type": "code",
   "execution_count": 1,
   "metadata": {},
   "outputs": [
    {
     "name": "stdout",
     "output_type": "stream",
     "text": [
      "50\n",
      "49\n",
      "48\n",
      "47\n",
      "46\n",
      "45\n",
      "44\n",
      "43\n",
      "42\n",
      "41\n",
      "40\n",
      "39\n",
      "38\n",
      "37\n",
      "36\n",
      "35\n",
      "34\n",
      "33\n",
      "32\n",
      "31\n",
      "30\n",
      "29\n",
      "28\n",
      "27\n",
      "26\n",
      "25\n",
      "24\n",
      "23\n",
      "22\n",
      "21\n",
      "20\n",
      "19\n",
      "18\n",
      "17\n",
      "16\n",
      "15\n",
      "14\n",
      "13\n",
      "12\n",
      "11\n",
      "10\n",
      "9\n",
      "8\n",
      "7\n",
      "6\n",
      "5\n",
      "4\n",
      "3\n",
      "2\n",
      "1\n",
      "0\n"
     ]
    }
   ],
   "source": [
    "# kerjakan nomor 1 di sini\n",
    "\n",
    "# urutan angka dari terbesar ke terkecil\n",
    "\n",
    "for i in range (50, -1, -1):\n",
    "    print(i) "
   ]
  },
  {
   "attachments": {},
   "cell_type": "markdown",
   "metadata": {},
   "source": [
    "2. Buatlah sebuah list yang berisi kota-kota yang ada di indonesia (minimal 10, salah satunya kota asal kalian), kemudian buat pengulangan yang menampilkan isi-isi dalam list tersebut, jika salah satu kota menunjukkan kota asal kalian maka tambahkan output \"kota X adalah kampung halaman saya\" (program tetap lanjut)"
   ]
  },
  {
   "cell_type": "code",
   "execution_count": 8,
   "metadata": {},
   "outputs": [
    {
     "name": "stdout",
     "output_type": "stream",
     "text": [
      "Kota kelahiran saya adalah Banda Aceh\n",
      "kota Bekasi berada di Indonesia\n",
      "kota Jakarta berada di Indonesia\n",
      "kota Denpasar berada di Indonesia\n",
      "kota Depok berada di Indonesia\n",
      "kota Yogyakarta berada di Indonesia\n",
      "kota Solo berada di Indonesia\n",
      "kota Batam berada di Indonesia\n",
      "kota Balikpapan berada di Indonesia\n",
      "kota Bontang berada di Indonesia\n"
     ]
    }
   ],
   "source": [
    "# Kerjakan nomor 2 di sini\n",
    "\n",
    "kota = [\"Banda Aceh\", \"Bekasi\", \"Jakarta\", \"Denpasar\", \"Depok\", \"Yogyakarta\", \"Solo\", \"Batam\", \"Balikpapan\", \"Bontang\"]\n",
    "\n",
    "for kotakota in kota:\n",
    "    if kotakota == \"Banda Aceh\":\n",
    "        print(f\"Kota kelahiran saya adalah\", format(kota[0]))\n",
    "        continue\n",
    "    print(f\"kota {kotakota} berada di Indonesia\")"
   ]
  },
  {
   "attachments": {},
   "cell_type": "markdown",
   "metadata": {},
   "source": [
    "3. Disajikan list sebagai berikut"
   ]
  },
  {
   "cell_type": "code",
   "execution_count": null,
   "metadata": {},
   "outputs": [],
   "source": [
    "hari = ['senin', 'selasa','rabu','kamis','jumat','sabtu', 'minggu']\n",
    "menu_sahur = ['soto','pecel lele', 'ayam goreng', 'sayur sop', 'rendang','telur balado']"
   ]
  },
  {
   "attachments": {},
   "cell_type": "markdown",
   "metadata": {},
   "source": [
    "Abdul adalah seorang mahasiswa semester 2. Selama satu minggu ia membuat daftar menu sahur yang dia makan selama seminggu yang lalu. dengan catatan hari kamis Abdul ketiduran sehingga dia tidak sahur. Berdasarkan kasus tersebut buatlah program pengulangannya!"
   ]
  },
  {
   "cell_type": "code",
   "execution_count": 9,
   "metadata": {},
   "outputs": [
    {
     "name": "stdout",
     "output_type": "stream",
     "text": [
      "\n",
      "Menu Sahur Abdul\n",
      "senin : soto\n",
      "\n",
      "Menu Sahur Abdul\n",
      "selasa : pecel lele\n",
      "\n",
      "Menu Sahur Abdul\n",
      "rabu : ayam goreng\n",
      "\n",
      "Menu Sahur Abdul\n",
      "kamis : Abdul ketiduran sehingga tidak sahur\n",
      "\n",
      "Menu Sahur Abdul\n",
      "jumat : sayur sop\n",
      "\n",
      "Menu Sahur Abdul\n",
      "sabtu : rendang\n",
      "\n",
      "Menu Sahur Abdul\n",
      "minggu : telur balado\n"
     ]
    }
   ],
   "source": [
    "# kerjakan nomor 3 di sini\n",
    "\n",
    "hari = ['senin', 'selasa','rabu','kamis','jumat','sabtu', 'minggu']\n",
    "menu_sahur = ['soto','pecel lele', 'ayam goreng', 'sayur sop', 'rendang','telur balado']\n",
    "\n",
    "# kamis tidak sahur karena ketiduran\n",
    "\n",
    "menu_sahur.insert(3, \"Abdul ketiduran sehingga tidak sahur\")\n",
    "for i in range (len(hari)):\n",
    "    print(f'''\n",
    "Menu Sahur Abdul\n",
    "{hari[i]} : {menu_sahur[i]}''')"
   ]
  }
 ],
 "metadata": {
  "kernelspec": {
   "display_name": "Python 3",
   "language": "python",
   "name": "python3"
  },
  "language_info": {
   "codemirror_mode": {
    "name": "ipython",
    "version": 3
   },
   "file_extension": ".py",
   "mimetype": "text/x-python",
   "name": "python",
   "nbconvert_exporter": "python",
   "pygments_lexer": "ipython3",
   "version": "3.10.8"
  },
  "orig_nbformat": 4
 },
 "nbformat": 4,
 "nbformat_minor": 2
}
