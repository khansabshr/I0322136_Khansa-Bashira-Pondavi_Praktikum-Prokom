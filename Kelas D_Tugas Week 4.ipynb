{
 "cells": [
  {
   "cell_type": "code",
   "execution_count": 1,
   "metadata": {},
   "outputs": [
    {
     "name": "stdout",
     "output_type": "stream",
     "text": [
      "Khansa Bashira Pondavi\n",
      "I0322136\n",
      "D\n"
     ]
    }
   ],
   "source": [
    "print(input(\"Nama: \"))\n",
    "print(input(\"NIM: \"))\n",
    "print(input(\"Kelas: \"))"
   ]
  },
  {
   "attachments": {},
   "cell_type": "markdown",
   "metadata": {},
   "source": [
    "## 1."
   ]
  },
  {
   "attachments": {},
   "cell_type": "markdown",
   "metadata": {},
   "source": [
    "Buatlah program yang menampilkan salam “Selamat Pagi” dari berbagai negara {Inggris, Perancis, Italia, Spanyol, Jepang, Korea} dengan dua input dari user yaitu bahasa dan diikuti nama user.<br>\n",
    "<br>Ex : \n",
    "<br>\"Ohayou, Onii Chan\"\n",
    "> *note: Kerjakan soal ini dengan percabangan*"
   ]
  },
  {
   "cell_type": "code",
   "execution_count": 3,
   "metadata": {},
   "outputs": [
    {
     "name": "stdout",
     "output_type": "stream",
     "text": [
      "Bonjour, acha\n"
     ]
    }
   ],
   "source": [
    "# Kerjakan soal nomor 1 disini\n",
    "Inggris     = 'Good Morning'\n",
    "Perancis    = 'Bonjour'\n",
    "Italia      = 'Buongiorno'\n",
    "Spanyol     = 'Buenos dias'\n",
    "Jepang      = 'おはようございます (Ohayou Gozaimasu)'\n",
    "Korea       = '좋은 아침입니다 (Joheun Achimimnida)'\n",
    "\n",
    "Bahasa = str(input(\"Dengan bahasa apa anda ingin diucapkan salam pagi ini? Tersedia bahasa Inggris, Perancis, Italia, Spanyol, Jepang, dan Korea. Bisa dipilih salah satunya\"))\n",
    "Nama = str(input(\"Siapa nama anda?\"))\n",
    "\n",
    "if (Bahasa.capitalize()=='Inggris'):\n",
    "    print(f'{Inggris}, {Nama}')\n",
    "\n",
    "elif (Bahasa.capitalize()=='Perancis'):\n",
    "    print(f'{Perancis}, {Nama}')\n",
    "\n",
    "elif (Bahasa.capitalize()==\"Italia\"):\n",
    "    print(f'{Perancis}, {Nama}')\n",
    "\n",
    "elif (Bahasa.capitalize()=='Spanyol'):\n",
    "    print(f'{Spanyol}, {Nama}')\n",
    "\n",
    "elif (Bahasa.capitalize()=='Jepang'):\n",
    "    print(f'{Jepang}, {Nama}')\n",
    "\n",
    "elif (Bahasa.capitalize()=='Korea'):\n",
    "    print(f'{Korea}, {Nama}')\n",
    "\n",
    "else:\n",
    "    print(\"Maaf bahasa tidak tersedia\")"
   ]
  },
  {
   "attachments": {},
   "cell_type": "markdown",
   "metadata": {},
   "source": [
    "## 2."
   ]
  },
  {
   "attachments": {},
   "cell_type": "markdown",
   "metadata": {},
   "source": [
    "Buatlah program perhitungan umur dengan menggunakan input user yaitu tahun lahir dari user.<br>\n",
    "<br>Output yang dihasilkan adalah sebagai berikut:\n",
    "<br>\"Apakah anda berasal dari masa depan?\"\n",
    "<br>\"Anda barusaja lahir\"\n",
    "<br>\"Umur Anda adalah xx tahun\"\n",
    "> *note: Kerjakan soal ini dengan percabangan*"
   ]
  },
  {
   "cell_type": "code",
   "execution_count": 4,
   "metadata": {},
   "outputs": [
    {
     "name": "stdout",
     "output_type": "stream",
     "text": [
      "Umur anda adalah 19 tahun\n"
     ]
    }
   ],
   "source": [
    "# Kerjakan soal nomor 2 disini\n",
    "tahun = int(input(\"Masukan tahun lahir: \"))\n",
    "\n",
    "if (tahun > 2023):\n",
    "    print ('Apakah anda berasal dari masa depan?')\n",
    "elif (tahun == 2023):\n",
    "    print('Anda baru saja lahir')\n",
    "else:\n",
    "    print(f'Umur anda adalah {2023 - tahun} tahun')"
   ]
  }
 ],
 "metadata": {
  "kernelspec": {
   "display_name": "Python 3",
   "language": "python",
   "name": "python3"
  },
  "language_info": {
   "codemirror_mode": {
    "name": "ipython",
    "version": 3
   },
   "file_extension": ".py",
   "mimetype": "text/x-python",
   "name": "python",
   "nbconvert_exporter": "python",
   "pygments_lexer": "ipython3",
   "version": "3.10.8"
  },
  "orig_nbformat": 4,
  "vscode": {
   "interpreter": {
    "hash": "a9cff5a362bc38ef45d817ae74b1af54d6a076e3d773891282bce078b815ba34"
   }
  }
 },
 "nbformat": 4,
 "nbformat_minor": 2
}
