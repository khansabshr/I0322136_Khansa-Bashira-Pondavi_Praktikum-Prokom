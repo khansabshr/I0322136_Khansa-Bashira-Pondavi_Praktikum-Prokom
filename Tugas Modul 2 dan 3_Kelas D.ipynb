{
 "cells": [
  {
   "cell_type": "code",
   "execution_count": 1,
   "metadata": {},
   "outputs": [
    {
     "name": "stdout",
     "output_type": "stream",
     "text": [
      "Khansa Bashira Pondavi\n",
      "I0322136\n",
      "D\n"
     ]
    }
   ],
   "source": [
    "print(input(\"Nama: \"))\n",
    "print(input(\"NIM: \"))\n",
    "print(input(\"Kelas: \"))"
   ]
  },
  {
   "attachments": {},
   "cell_type": "markdown",
   "metadata": {},
   "source": [
    "## 1."
   ]
  },
  {
   "attachments": {},
   "cell_type": "markdown",
   "metadata": {},
   "source": [
    "diketahui dimensi sebuah aquarium tanpa penutup atas sebagai berikut:\n",
    "\n",
    "```python\n",
    "p = 11\n",
    "l = 1.99\n",
    "t = 25.87\n",
    "```\n",
    "buatkan program sederhana untuk menghitung diagonal tiap sisi dan luas permukaan aquarium tersebut tanpa menggunakan module math."
   ]
  },
  {
   "cell_type": "code",
   "execution_count": 16,
   "metadata": {},
   "outputs": [
    {
     "name": "stdout",
     "output_type": "stream",
     "text": [
      "jawaban no 1\n",
      "diagonal sisi depan aquarium: 395.12845000000004\n",
      "diagonal sisi belakang aquarium: 395.12845000000004\n",
      "diagonal sisi kanan aquarium: 336.60850000000005\n",
      "diagonal sisi kiri aquarium: 336.60850000000005\n",
      "diagonal sisi bawah aquarium: 62.48005\n",
      "luas permukaan aquarium: 693.9925999999999\n"
     ]
    }
   ],
   "source": [
    "p = 11\n",
    "l = 1.99\n",
    "t = 25.87\n",
    "\n",
    "DD = (p*p + t*t)**1/2\n",
    "DS = (l*l + t*t)**1/2\n",
    "DB = (p*p + l*l)**1/2\n",
    "LP = (2*(p*l + p*t + l*t)) - (p*l)\n",
    "\n",
    "print(\"jawaban no 1\")\n",
    "print(\"diagonal sisi depan aquarium: \" + str(DD))\n",
    "print(\"diagonal sisi belakang aquarium: \" + str(DD))\n",
    "print(\"diagonal sisi kanan aquarium: \" + str(DS))\n",
    "print(\"diagonal sisi kiri aquarium: \" + str(DS))\n",
    "print(\"diagonal sisi bawah aquarium: \" + str(DB))\n",
    "print(\"luas permukaan aquarium: \" + str(LP))"
   ]
  },
  {
   "attachments": {},
   "cell_type": "markdown",
   "metadata": {},
   "source": [
    "## 2."
   ]
  },
  {
   "attachments": {},
   "cell_type": "markdown",
   "metadata": {},
   "source": [
    "diberikan data nilai mahasiswa sebagai berikut:"
   ]
  },
  {
   "cell_type": "code",
   "execution_count": 4,
   "metadata": {},
   "outputs": [],
   "source": [
    "nilai = {\n",
    "    'Frank': 80,\n",
    "    'Abagnale': 75,\n",
    "    'Cobb': 90,\n",
    "    'Andy Dufresne': 85,\n",
    "    'Ariadne': 70\n",
    "}"
   ]
  },
  {
   "attachments": {},
   "cell_type": "markdown",
   "metadata": {},
   "source": [
    "buatlah program sederhana untuk menghitung nilai rata-rata semua mahasiswa dan mencari siapa yang mendapatkan nilai tertinggi dan nilai terendah. \n",
    "> *note: tidak perlu menggunakan loops untuk membuat program nya*"
   ]
  },
  {
   "cell_type": "code",
   "execution_count": 18,
   "metadata": {},
   "outputs": [
    {
     "name": "stdout",
     "output_type": "stream",
     "text": [
      "jawaban no 2\n",
      "Nilai rata-rata semua mahasiswa adalah: 80.0\n",
      "Nilai tertinggi adalah:  90\n",
      "Nilai terendah adalah:  70\n"
     ]
    }
   ],
   "source": [
    "print(\"jawaban no 2\")\n",
    "\n",
    "Frank = 80\n",
    "Abagnale = 75\n",
    "Cobb = 90\n",
    "Andy_Dufresne = 85\n",
    "Ariadne = 70\n",
    "\n",
    "hasil = (Frank + Abagnale + Cobb + Andy_Dufresne + Ariadne)/5\n",
    "print(\"Nilai rata-rata semua mahasiswa adalah: \" + str(hasil))\n",
    "\n",
    "a = [Frank, Abagnale, Cobb, Andy_Dufresne, Ariadne]\n",
    "print(\"Nilai tertinggi adalah: \", max(a))\n",
    "print(\"Nilai terendah adalah: \", min(a))"
   ]
  },
  {
   "attachments": {},
   "cell_type": "markdown",
   "metadata": {},
   "source": [
    "## 3. "
   ]
  },
  {
   "attachments": {},
   "cell_type": "markdown",
   "metadata": {},
   "source": [
    "diberikan list aslab sebagai berikut:\n",
    "```python\n",
    "list_aslab = [\n",
    "    {\"nama\": \"Berlian Safri Prakoso\", \"nim\": \"I0320017\", \"kontak\": \"0858XXXXXXXX\"},\n",
    "    {\"nama\": \"Halidya Siti Hanifah\", \"nim\": \"I0320044\", \"kontak\": \"0878XXXXXXXX\"},\n",
    "    {\"nama\": \"Nurki Putra Mahardika\", \"nim\": \"I0320076\", \"kontak\": \"0877XXXXXXXX\"},\n",
    "    {\"nama\": \"Aji Manarul Aziz\", \"nim\": \"I0320119\", \"kontak\": \"0812XXXXXXXX\"},\n",
    "    {\"nama\": \"Alica Ayu Fitriani\", \"nim\": \"I0320121\", \"kontak\": \"0896XXXXXXXX\"},\n",
    "    {\"nama\": \"Dendy Halim Kusuma\", \"nim\": \"I0320125\", \"kontak\": \"0822XXXXXXXX\"}\n",
    "]\n",
    "```\n",
    "* **A** Tuliskan kode untuk mengakses informasi tentang \"nama\" dari semua aslab mulai dari index 1 sampai 5\n",
    "* **B** Tambahkan informasi berikut pada data aslab:\n",
    "```python\n",
    "    surel = [\"berlian@student.uns.ac.id\",\n",
    "          \"halidya@student.uns.ac.id\",\n",
    "          \"nurki@student.uns.ac.id\",\n",
    "          \"manarul@student.uns.ac.id\",\n",
    "          \"alica@student.uns.ac.id\",\n",
    "          \"dendy@student.uns.ac.id\"]\n",
    "```\n",
    "> *note: kalian hanya boleh menggunakan key-value pair yang disebutkan di dalam teks, tanpa menggunakan informasi tambahan yang diambil pada list yang ada*"
   ]
  },
  {
   "cell_type": "code",
   "execution_count": 19,
   "metadata": {},
   "outputs": [
    {
     "name": "stdout",
     "output_type": "stream",
     "text": [
      "jawaban no 3A\n",
      "Asisten Laboratorium POSI ke 2 sebagai berikut {'nama': 'Halidya Siti Hanifah', 'nim': 'I0320044', 'kontak': '0878XXXXXXXX'}\n",
      "Asisten Laboratorium POSI ke 3 sebagai berikut {'nama': 'Nurki Putra Mahardika', 'nim': 'I0320076', 'kontak': '0877XXXXXXXX'}\n",
      "Asisten Laboratorium POSI ke 4 sebagai berikut {'nama': 'Aji Manarul Aziz', 'nim': 'I0320119', 'kontak': '0812XXXXXXXX'}\n",
      "Asisten Laboratorium POSI ke 5 sebagai berikut {'nama': 'Alica Ayu Fitriani', 'nim': 'I0320121', 'kontak': '0896XXXXXXXX'}\n",
      "Asisten Laboratorium POSI ke 6 sebagai berikut {'nama': 'Dendy Halim Kusuma', 'nim': 'I0320125', 'kontak': '0822XXXXXXXX'}\n"
     ]
    }
   ],
   "source": [
    "print(\"jawaban no 3A\")\n",
    "\n",
    "list_aslab = [\n",
    "    {\"nama\": \"Berlian Safri Prakoso\", \"nim\": \"I0320017\", \"kontak\": \"0858XXXXXXXX\"},\n",
    "    {\"nama\": \"Halidya Siti Hanifah\", \"nim\": \"I0320044\", \"kontak\": \"0878XXXXXXXX\"},\n",
    "    {\"nama\": \"Nurki Putra Mahardika\", \"nim\": \"I0320076\", \"kontak\": \"0877XXXXXXXX\"},\n",
    "    {\"nama\": \"Aji Manarul Aziz\", \"nim\": \"I0320119\", \"kontak\": \"0812XXXXXXXX\"},\n",
    "    {\"nama\": \"Alica Ayu Fitriani\", \"nim\": \"I0320121\", \"kontak\": \"0896XXXXXXXX\"},\n",
    "    {\"nama\": \"Dendy Halim Kusuma\", \"nim\": \"I0320125\", \"kontak\": \"0822XXXXXXXX\"}\n",
    "]\n",
    "\n",
    "for i in range (1,len(list_aslab)):\n",
    "    print(\"Asisten Laboratorium POSI ke\", i+1, \"sebagai berikut\", list_aslab[i])"
   ]
  },
  {
   "cell_type": "code",
   "execution_count": 20,
   "metadata": {},
   "outputs": [
    {
     "name": "stdout",
     "output_type": "stream",
     "text": [
      "jawaban no 3b\n",
      "Asisten Laboratorium POSI ke 1 sebagai berikut {'nama': 'Berlian Safri Prakoso', 'nim': 'I0320017', 'kontak': '0858XXXXXXXX', 'surel': 'berlian@student.uns.ac.id'}\n",
      "Asisten Laboratorium POSI ke 2 sebagai berikut {'nama': 'Halidya Siti Hanifah', 'nim': 'I0320044', 'kontak': '0878XXXXXXXX', 'surel': 'halidya@student.uns.ac.id'}\n",
      "Asisten Laboratorium POSI ke 3 sebagai berikut {'nama': 'Nurki Putra Mahardika', 'nim': 'I0320076', 'kontak': '0877XXXXXXXX', 'surel': 'nurki@student.uns.ac.id'}\n",
      "Asisten Laboratorium POSI ke 4 sebagai berikut {'nama': 'Aji Manarul Aziz', 'nim': 'I0320119', 'kontak': '0812XXXXXXXX', 'surel': 'manarul@student.uns.ac.id'}\n",
      "Asisten Laboratorium POSI ke 5 sebagai berikut {'nama': 'Alica Ayu Fitriani', 'nim': 'I0320121', 'kontak': '0896XXXXXXXX', 'surel': 'alica@student.uns.ac.id'}\n",
      "Asisten Laboratorium POSI ke 6 sebagai berikut {'nama': 'Dendy Halim Kusuma', 'nim': 'I0320125', 'kontak': '0822XXXXXXXX', 'surel': 'dendy@student.uns.ac.id'}\n"
     ]
    }
   ],
   "source": [
    "print (\"jawaban no 3b\")\n",
    "\n",
    "list_aslab = [\n",
    "    {\"nama\": \"Berlian Safri Prakoso\", \"nim\": \"I0320017\", \"kontak\": \"0858XXXXXXXX\"},\n",
    "    {\"nama\": \"Halidya Siti Hanifah\", \"nim\": \"I0320044\", \"kontak\": \"0878XXXXXXXX\"},\n",
    "    {\"nama\": \"Nurki Putra Mahardika\", \"nim\": \"I0320076\", \"kontak\": \"0877XXXXXXXX\"},\n",
    "    {\"nama\": \"Aji Manarul Aziz\", \"nim\": \"I0320119\", \"kontak\": \"0812XXXXXXXX\"},\n",
    "    {\"nama\": \"Alica Ayu Fitriani\", \"nim\": \"I0320121\", \"kontak\": \"0896XXXXXXXX\"},\n",
    "    {\"nama\": \"Dendy Halim Kusuma\", \"nim\": \"I0320125\", \"kontak\": \"0822XXXXXXXX\"}\n",
    "]\n",
    "surel = [\"berlian@student.uns.ac.id\",\n",
    "          \"halidya@student.uns.ac.id\",\n",
    "          \"nurki@student.uns.ac.id\",\n",
    "          \"manarul@student.uns.ac.id\",\n",
    "          \"alica@student.uns.ac.id\",\n",
    "          \"dendy@student.uns.ac.id\"]\n",
    "\n",
    "for i in range (0,len(list_aslab)):\n",
    "    list_aslab[i].update({\"surel\": surel[i]})\n",
    "    print(\"Asisten Laboratorium POSI ke\", i+1, \"sebagai berikut\", list_aslab[i])"
   ]
  }
 ],
 "metadata": {
  "kernelspec": {
   "display_name": "Python 3",
   "language": "python",
   "name": "python3"
  },
  "language_info": {
   "codemirror_mode": {
    "name": "ipython",
    "version": 3
   },
   "file_extension": ".py",
   "mimetype": "text/x-python",
   "name": "python",
   "nbconvert_exporter": "python",
   "pygments_lexer": "ipython3",
   "version": "3.10.8"
  },
  "orig_nbformat": 4,
  "vscode": {
   "interpreter": {
    "hash": "5addf786bcd861d1ce5006f23111f8cbb206731e5b61b0a5632ba9e0252558a8"
   }
  }
 },
 "nbformat": 4,
 "nbformat_minor": 2
}
